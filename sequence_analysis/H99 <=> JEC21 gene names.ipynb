{
 "metadata": {
  "name": "H99 <=> JEC21 gene names"
 },
 "nbformat": 3,
 "nbformat_minor": 0,
 "worksheets": [
  {
   "cells": [
    {
     "cell_type": "code",
     "collapsed": false,
     "input": [
      "import csv\n",
      "\n",
      "# This simply loads in the output of blast in csv format \n",
      "# blastn -db H99_CNAG -outfmt 10 -num_alignments 1 -query JEC21_CNX.frna > H99_JEC21_blastn.csv\n",
      "# It then creates a  dict to remove redundancies and writes it to a file\n",
      "\n",
      "genelist = csv.reader(open('H99_JEC21_blastn.csv', 'rb'), delimiter=',')\n",
      "\n",
      "f = open('JEC21_H99_genetable.txt', 'w')\n",
      "\n",
      "J_H_gene_dict={}\n",
      "H_J_gene_dict={}\n",
      "\n",
      "for rows in genelist:\n",
      "    J_gene = rows[0]\n",
      "    H_gene = rows[1]\n",
      "    if J_H_gene_dict.has_key(J_gene):\n",
      "        if H_gene in J_H_gene_dict[J_gene]:\n",
      "            pass\n",
      "        else:\n",
      "            J_H_gene_dict[J_gene].append(H_gene)\n",
      "    else:\n",
      "        J_H_gene_dict[J_gene] = [H_gene]\n",
      "    if H_J_gene_dict.has_key(H_gene):\n",
      "        if J_gene in H_J_gene_dict[H_gene]:\n",
      "            pass\n",
      "        else:\n",
      "            H_J_gene_dict[H_gene].append(J_gene)\n",
      "    else:\n",
      "        H_J_gene_dict[H_gene] = [J_gene]\n",
      " \n",
      "f.write(\"JEC21 genes and their closest H99 equivalent(s)\\n\")\n",
      "\n",
      "for keys in sorted(J_H_gene_dict.iterkeys()):\n",
      "    h_genes = ','.join(J_H_gene_dict[keys])\n",
      "    f.write(\"%s\\t%s\\n\" % (keys,h_genes)) \n",
      "            \n",
      "f.write(\"H99 genes and their closest JEC21 equivalent(s)\\n\")\n",
      "        \n",
      "for keys in sorted(H_J_gene_dict.iterkeys()):\n",
      "    j_genes = ','.join(H_J_gene_dict[keys])\n",
      "    f.write(\"%s\\t%s\\n\" % (keys,j_genes))\n",
      "            \n",
      "f.close()\n"
     ],
     "language": "python",
     "metadata": {},
     "outputs": [],
     "prompt_number": 25
    },
    {
     "cell_type": "code",
     "collapsed": false,
     "input": [],
     "language": "python",
     "metadata": {},
     "outputs": [],
     "prompt_number": 25
    },
    {
     "cell_type": "code",
     "collapsed": false,
     "input": [],
     "language": "python",
     "metadata": {},
     "outputs": [],
     "prompt_number": 25
    }
   ],
   "metadata": {}
  }
 ]
}